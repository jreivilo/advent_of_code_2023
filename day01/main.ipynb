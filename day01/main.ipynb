{
 "cells": [
  {
   "cell_type": "code",
   "execution_count": 11,
   "metadata": {},
   "outputs": [],
   "source": []
  },
  {
   "cell_type": "code",
   "execution_count": 1,
   "metadata": {},
   "outputs": [
    {
     "name": "stdout",
     "output_type": "stream",
     "text": [
      "Star 1 : 56397\n"
     ]
    }
   ],
   "source": [
    "file = open('input.txt', 'r')\n",
    "\n",
    "def init():\n",
    "    first_digit = ''\n",
    "    last_digit = ''\n",
    "    num_str = ''\n",
    "    num_total = 0\n",
    "    return first_digit, last_digit, num_str, num_total\n",
    "\n",
    "def reset():\n",
    "    first_digit = ''\n",
    "    last_digit = ''\n",
    "    return first_digit, last_digit\n",
    "\n",
    "#init   \n",
    "first_digit, last_digit, num_str, num_total = init()\n",
    "\n",
    "for row in file:\n",
    "    for letter in row:\n",
    "        if letter.isdigit():\n",
    "            if first_digit == '':\n",
    "                first_digit = letter\n",
    "            else:\n",
    "                last_digit = letter\n",
    "    if last_digit == '':\n",
    "        last_digit = first_digit\n",
    "    num_total += int(first_digit + last_digit)\n",
    "    #reset\n",
    "    first_digit, last_digit = reset()\n",
    "\n",
    "print(f'Star 1 : {num_total}')"
   ]
  },
  {
   "cell_type": "code",
   "execution_count": 14,
   "metadata": {},
   "outputs": [
    {
     "name": "stdout",
     "output_type": "stream",
     "text": [
      "Star 2 : 55701\n"
     ]
    }
   ],
   "source": [
    "\n",
    "file = open('input.txt', 'r')\n",
    "\n",
    "num_dic = {\"one\" : 1, \"two\" : 2, \"three\" : 3, \"four\" : 4, \"five\" : 5, \"six\" : 6, \"seven\" : 7, \"eight\" : 8, \"nine\" : 9}\n",
    "\n",
    "def extract_number(row: str):\n",
    "    letter_position = 0\n",
    "    dic_num_str = {} #pos : num\n",
    "    num_str = ''\n",
    "    \n",
    "    for key in num_dic:\n",
    "        tmp_row = row\n",
    "        i = 0\n",
    "        while True:\n",
    "            if key in tmp_row:\n",
    "                letter_position = tmp_row.find(key)\n",
    "                len_key = len(key)\n",
    "                dic_num_str[letter_position + i] = num_dic[key]\n",
    "                if ((letter_position + len_key) >= len(tmp_row)):\n",
    "                    break\n",
    "                tmp_row = tmp_row[letter_position + len_key:]\n",
    "                i += letter_position + len_key\n",
    "            else:\n",
    "                break\n",
    "            \n",
    "\n",
    "    for i, character in enumerate(row):\n",
    "        if character.isdigit():\n",
    "            dic_num_str[i] = character\n",
    "\n",
    "    #sort dic\n",
    "    dic_num_str = dict(sorted(dic_num_str.items()))\n",
    "    #convert dic to str\n",
    "    for key in dic_num_str:\n",
    "        num_str += str(dic_num_str[key])\n",
    "    return num_str\n",
    "            \n",
    "    \n",
    "\n",
    "first_digit, last_digit, num_str, num_total = init()\n",
    "\n",
    "for row in file:\n",
    "    row = extract_number(row)\n",
    "    for letter in row:\n",
    "        if letter.isdigit():\n",
    "            if first_digit == '':\n",
    "                first_digit = letter\n",
    "            else:\n",
    "                last_digit = letter\n",
    "    if last_digit == '':\n",
    "        last_digit = first_digit\n",
    "    #compine first and last digit\n",
    "    num_str = first_digit + last_digit\n",
    "    num_total += int(num_str)\n",
    "    #reset\n",
    "    first_digit = ''\n",
    "    last_digit = ''\n",
    "\n",
    "print(f'Star 2 : {num_total}')\n",
    "\n"
   ]
  }
 ],
 "metadata": {
  "kernelspec": {
   "display_name": "base",
   "language": "python",
   "name": "python3"
  },
  "language_info": {
   "codemirror_mode": {
    "name": "ipython",
    "version": 3
   },
   "file_extension": ".py",
   "mimetype": "text/x-python",
   "name": "python",
   "nbconvert_exporter": "python",
   "pygments_lexer": "ipython3",
   "version": "3.11.5"
  }
 },
 "nbformat": 4,
 "nbformat_minor": 2
}
